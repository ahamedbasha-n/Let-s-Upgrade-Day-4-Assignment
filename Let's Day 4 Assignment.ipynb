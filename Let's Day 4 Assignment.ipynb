{
 "cells": [
  {
   "cell_type": "markdown",
   "metadata": {},
   "source": [
    "# Pandas"
   ]
  },
  {
   "cell_type": "code",
   "execution_count": 2,
   "metadata": {},
   "outputs": [
    {
     "name": "stdout",
     "output_type": "stream",
     "text": [
      "1.0.5\n"
     ]
    }
   ],
   "source": [
    "import pandas\n",
    "print(pandas.__version__)"
   ]
  },
  {
   "cell_type": "markdown",
   "metadata": {},
   "source": [
    "# Series"
   ]
  },
  {
   "cell_type": "code",
   "execution_count": 5,
   "metadata": {},
   "outputs": [
    {
     "name": "stdout",
     "output_type": "stream",
     "text": [
      "{'China': 984567842, 'India': 964533267, 'Russia': 9056957423, 'America': 854124345}\n",
      "China       984567842\n",
      "India       964533267\n",
      "Russia     9056957423\n",
      "America     854124345\n",
      "dtype: int64\n"
     ]
    }
   ],
   "source": [
    "population_dict={\"China\":984567842,\"India\":964533267,\"Russia\":9056957423,\"America\":854124345}\n",
    "#This is Dictionary\n",
    "print(population_dict)\n",
    "population=pandas.Series(population_dict)\n",
    "#This is series\n",
    "print(population)"
   ]
  },
  {
   "cell_type": "markdown",
   "metadata": {},
   "source": [
    "# Indexing and Slicing in Series"
   ]
  },
  {
   "cell_type": "code",
   "execution_count": 28,
   "metadata": {},
   "outputs": [
    {
     "name": "stdout",
     "output_type": "stream",
     "text": [
      "984567842\n",
      "964533267\n",
      "9056957423\n",
      "854124345\n",
      "\n",
      "984567842\n",
      "964533267\n",
      "9056957423\n",
      "854124345\n",
      "\n",
      "China      984567842\n",
      "India      964533267\n",
      "Russia    9056957423\n",
      "dtype: int64\n",
      "\n",
      "China       984567842\n",
      "India       964533267\n",
      "Russia     9056957423\n",
      "America     854124345\n",
      "dtype: int64\n"
     ]
    }
   ],
   "source": [
    "population_dict={\"China\":984567842,\"India\":964533267,\"Russia\":9056957423,\"America\":854124345}\n",
    "population=pandas.Series(population_dict)\n",
    "#using index values in series.\n",
    "print(population[0])\n",
    "print(population[1])\n",
    "print(population[2])\n",
    "print(population[3])\n",
    "#using keys in dictionaries.\n",
    "print() #this is used for differentiation in output purposes.\n",
    "print(population[\"China\"])\n",
    "print(population[\"India\"])\n",
    "print(population[\"Russia\"])\n",
    "print(population[\"America\"])\n",
    "print()\n",
    "#using indexing \n",
    "print(population[0:3])\n",
    "print()\n",
    "print(population[\"China\":\"America\"])"
   ]
  },
  {
   "cell_type": "markdown",
   "metadata": {},
   "source": [
    "# Create Series using List"
   ]
  },
  {
   "cell_type": "code",
   "execution_count": 29,
   "metadata": {},
   "outputs": [
    {
     "data": {
      "text/plain": [
       "0    2\n",
       "1    4\n",
       "2    6\n",
       "3    8\n",
       "dtype: int64"
      ]
     },
     "execution_count": 29,
     "metadata": {},
     "output_type": "execute_result"
    }
   ],
   "source": [
    "pandas.Series([2,4,6,8]) #create series."
   ]
  },
  {
   "cell_type": "code",
   "execution_count": 36,
   "metadata": {},
   "outputs": [
    {
     "data": {
      "text/plain": [
       "num1    30\n",
       "dtype: int64"
      ]
     },
     "execution_count": 36,
     "metadata": {},
     "output_type": "execute_result"
    }
   ],
   "source": [
    "pandas.Series(30,index=[\"num1\"])  #give index value."
   ]
  },
  {
   "cell_type": "code",
   "execution_count": 40,
   "metadata": {},
   "outputs": [
    {
     "data": {
      "text/plain": [
       "111    50\n",
       "222    50\n",
       "333    50\n",
       "dtype: int64"
      ]
     },
     "execution_count": 40,
     "metadata": {},
     "output_type": "execute_result"
    }
   ],
   "source": [
    "pandas.Series(50,index=[111,222,333])"
   ]
  },
  {
   "cell_type": "markdown",
   "metadata": {},
   "source": [
    "# Dataframes"
   ]
  },
  {
   "cell_type": "code",
   "execution_count": 61,
   "metadata": {},
   "outputs": [
    {
     "data": {
      "text/html": [
       "<div>\n",
       "<style scoped>\n",
       "    .dataframe tbody tr th:only-of-type {\n",
       "        vertical-align: middle;\n",
       "    }\n",
       "\n",
       "    .dataframe tbody tr th {\n",
       "        vertical-align: top;\n",
       "    }\n",
       "\n",
       "    .dataframe thead th {\n",
       "        text-align: right;\n",
       "    }\n",
       "</style>\n",
       "<table border=\"1\" class=\"dataframe\">\n",
       "  <thead>\n",
       "    <tr style=\"text-align: right;\">\n",
       "      <th></th>\n",
       "      <th>Popultion</th>\n",
       "    </tr>\n",
       "  </thead>\n",
       "  <tbody>\n",
       "    <tr>\n",
       "      <th>China</th>\n",
       "      <td>984567842</td>\n",
       "    </tr>\n",
       "    <tr>\n",
       "      <th>India</th>\n",
       "      <td>964533267</td>\n",
       "    </tr>\n",
       "    <tr>\n",
       "      <th>Russia</th>\n",
       "      <td>9056957423</td>\n",
       "    </tr>\n",
       "    <tr>\n",
       "      <th>America</th>\n",
       "      <td>854124345</td>\n",
       "    </tr>\n",
       "  </tbody>\n",
       "</table>\n",
       "</div>"
      ],
      "text/plain": [
       "          Popultion\n",
       "China     984567842\n",
       "India     964533267\n",
       "Russia   9056957423\n",
       "America   854124345"
      ]
     },
     "execution_count": 61,
     "metadata": {},
     "output_type": "execute_result"
    }
   ],
   "source": [
    "population_dict={\"China\":984567842,\"India\":964533267,\"Russia\":9056957423,\"America\":854124345}\n",
    "president_dict={\"China\":\"Xi Jinping\",\"India\":\"Narendra Modi\",\"Russia\":\"Vladimir Putin\",\"America\":\"Joe Biden\"}\n",
    "presidentseries=pandas.Series(president_dict)  #convert Dict to Series\n",
    "populationseries=pandas.Series(population_dict)  #convert Dict to Series\n",
    "pandas.DataFrame(populationseries, columns=[\"Popultion\"])  #Columns is a function."
   ]
  },
  {
   "cell_type": "markdown",
   "metadata": {},
   "source": [
    "# List Comprehension"
   ]
  },
  {
   "cell_type": "code",
   "execution_count": 64,
   "metadata": {},
   "outputs": [
    {
     "data": {
      "text/plain": [
       "[{'a': 0, 'b': 1, 'c': 2}, {'a': 1, 'b': 2, 'c': 3}, {'a': 2, 'b': 3, 'c': 4}]"
      ]
     },
     "execution_count": 64,
     "metadata": {},
     "output_type": "execute_result"
    }
   ],
   "source": [
    "[{'a':i,'b':i+1,'c':i+2} for i in range(3)]"
   ]
  },
  {
   "cell_type": "markdown",
   "metadata": {},
   "source": [
    "# Indexers : loc and iloc "
   ]
  },
  {
   "cell_type": "code",
   "execution_count": 71,
   "metadata": {},
   "outputs": [
    {
     "name": "stdout",
     "output_type": "stream",
     "text": [
      "a\n",
      "2    b\n",
      "3    c\n",
      "dtype: object\n"
     ]
    }
   ],
   "source": [
    "data=pandas.Series(['a','b','c'],index=[1,2,3])\n",
    "print(data[1])     #indexing -> pandas uses Explicit Index.\n",
    "print(data[1:3])   #slicing -> pandas uses Implicit Index.\n",
    "#this can be solved using loc and iloc"
   ]
  },
  {
   "cell_type": "code",
   "execution_count": 74,
   "metadata": {},
   "outputs": [
    {
     "name": "stdout",
     "output_type": "stream",
     "text": [
      "a\n",
      "1    a\n",
      "2    b\n",
      "3    c\n",
      "dtype: object\n"
     ]
    }
   ],
   "source": [
    "# loc -> Explicit.\n",
    "data=pandas.Series(['a','b','c'],index=[1,2,3])\n",
    "print(data.loc[1])  \n",
    "print(data.loc[1:3])"
   ]
  },
  {
   "cell_type": "code",
   "execution_count": 75,
   "metadata": {},
   "outputs": [
    {
     "name": "stdout",
     "output_type": "stream",
     "text": [
      "b\n",
      "2    b\n",
      "3    c\n",
      "dtype: object\n"
     ]
    }
   ],
   "source": [
    "# iloc -> Implicit.\n",
    "data=pandas.Series(['a','b','c'],index=[1,2,3])\n",
    "print(data.iloc[1])  \n",
    "print(data.iloc[1:3])"
   ]
  },
  {
   "cell_type": "markdown",
   "metadata": {},
   "source": [
    "# Comma Spread Values (CSV)"
   ]
  },
  {
   "cell_type": "code",
   "execution_count": 79,
   "metadata": {
    "scrolled": false
   },
   "outputs": [
    {
     "data": {
      "text/html": [
       "<div>\n",
       "<style scoped>\n",
       "    .dataframe tbody tr th:only-of-type {\n",
       "        vertical-align: middle;\n",
       "    }\n",
       "\n",
       "    .dataframe tbody tr th {\n",
       "        vertical-align: top;\n",
       "    }\n",
       "\n",
       "    .dataframe thead th {\n",
       "        text-align: right;\n",
       "    }\n",
       "</style>\n",
       "<table border=\"1\" class=\"dataframe\">\n",
       "  <thead>\n",
       "    <tr style=\"text-align: right;\">\n",
       "      <th></th>\n",
       "      <th>Name</th>\n",
       "      <th>Tamil</th>\n",
       "      <th>English</th>\n",
       "      <th>Maths</th>\n",
       "      <th>Physics</th>\n",
       "      <th>Chemistry</th>\n",
       "    </tr>\n",
       "  </thead>\n",
       "  <tbody>\n",
       "    <tr>\n",
       "      <th>0</th>\n",
       "      <td>Alan</td>\n",
       "      <td>98</td>\n",
       "      <td>99</td>\n",
       "      <td>93</td>\n",
       "      <td>95</td>\n",
       "      <td>96</td>\n",
       "    </tr>\n",
       "    <tr>\n",
       "      <th>1</th>\n",
       "      <td>Britney</td>\n",
       "      <td>92</td>\n",
       "      <td>95</td>\n",
       "      <td>98</td>\n",
       "      <td>96</td>\n",
       "      <td>99</td>\n",
       "    </tr>\n",
       "    <tr>\n",
       "      <th>2</th>\n",
       "      <td>Mathew</td>\n",
       "      <td>90</td>\n",
       "      <td>97</td>\n",
       "      <td>99</td>\n",
       "      <td>90</td>\n",
       "      <td>91</td>\n",
       "    </tr>\n",
       "    <tr>\n",
       "      <th>3</th>\n",
       "      <td>Kevin</td>\n",
       "      <td>98</td>\n",
       "      <td>94</td>\n",
       "      <td>95</td>\n",
       "      <td>99</td>\n",
       "      <td>90</td>\n",
       "    </tr>\n",
       "    <tr>\n",
       "      <th>4</th>\n",
       "      <td>Willaimson</td>\n",
       "      <td>99</td>\n",
       "      <td>94</td>\n",
       "      <td>97</td>\n",
       "      <td>99</td>\n",
       "      <td>98</td>\n",
       "    </tr>\n",
       "  </tbody>\n",
       "</table>\n",
       "</div>"
      ],
      "text/plain": [
       "         Name  Tamil  English  Maths  Physics  Chemistry\n",
       "0        Alan     98       99     93       95         96\n",
       "1     Britney     92       95     98       96         99\n",
       "2      Mathew     90       97     99       90         91\n",
       "3       Kevin     98       94     95       99         90\n",
       "4  Willaimson     99       94     97       99         98"
      ]
     },
     "execution_count": 79,
     "metadata": {},
     "output_type": "execute_result"
    }
   ],
   "source": [
    "data=pandas.read_csv(\"record.csv\")\n",
    "data.head()  #picks first 5 datas\n",
    "# https://docs.google.com/spreadsheets/d/14HJVW6ivPkcflradtLrR3X0JHp9ai9eaN7xKdsEwkHY/edit#gid=0"
   ]
  },
  {
   "cell_type": "code",
   "execution_count": 80,
   "metadata": {},
   "outputs": [
    {
     "data": {
      "text/html": [
       "<div>\n",
       "<style scoped>\n",
       "    .dataframe tbody tr th:only-of-type {\n",
       "        vertical-align: middle;\n",
       "    }\n",
       "\n",
       "    .dataframe tbody tr th {\n",
       "        vertical-align: top;\n",
       "    }\n",
       "\n",
       "    .dataframe thead th {\n",
       "        text-align: right;\n",
       "    }\n",
       "</style>\n",
       "<table border=\"1\" class=\"dataframe\">\n",
       "  <thead>\n",
       "    <tr style=\"text-align: right;\">\n",
       "      <th></th>\n",
       "      <th>Name</th>\n",
       "      <th>Tamil</th>\n",
       "      <th>English</th>\n",
       "      <th>Maths</th>\n",
       "      <th>Physics</th>\n",
       "      <th>Chemistry</th>\n",
       "    </tr>\n",
       "  </thead>\n",
       "  <tbody>\n",
       "    <tr>\n",
       "      <th>1</th>\n",
       "      <td>Britney</td>\n",
       "      <td>92</td>\n",
       "      <td>95</td>\n",
       "      <td>98</td>\n",
       "      <td>96</td>\n",
       "      <td>99</td>\n",
       "    </tr>\n",
       "    <tr>\n",
       "      <th>2</th>\n",
       "      <td>Mathew</td>\n",
       "      <td>90</td>\n",
       "      <td>97</td>\n",
       "      <td>99</td>\n",
       "      <td>90</td>\n",
       "      <td>91</td>\n",
       "    </tr>\n",
       "    <tr>\n",
       "      <th>3</th>\n",
       "      <td>Kevin</td>\n",
       "      <td>98</td>\n",
       "      <td>94</td>\n",
       "      <td>95</td>\n",
       "      <td>99</td>\n",
       "      <td>90</td>\n",
       "    </tr>\n",
       "    <tr>\n",
       "      <th>4</th>\n",
       "      <td>Willaimson</td>\n",
       "      <td>99</td>\n",
       "      <td>94</td>\n",
       "      <td>97</td>\n",
       "      <td>99</td>\n",
       "      <td>98</td>\n",
       "    </tr>\n",
       "    <tr>\n",
       "      <th>5</th>\n",
       "      <td>Zach</td>\n",
       "      <td>97</td>\n",
       "      <td>92</td>\n",
       "      <td>91</td>\n",
       "      <td>94</td>\n",
       "      <td>99</td>\n",
       "    </tr>\n",
       "  </tbody>\n",
       "</table>\n",
       "</div>"
      ],
      "text/plain": [
       "         Name  Tamil  English  Maths  Physics  Chemistry\n",
       "1     Britney     92       95     98       96         99\n",
       "2      Mathew     90       97     99       90         91\n",
       "3       Kevin     98       94     95       99         90\n",
       "4  Willaimson     99       94     97       99         98\n",
       "5        Zach     97       92     91       94         99"
      ]
     },
     "execution_count": 80,
     "metadata": {},
     "output_type": "execute_result"
    }
   ],
   "source": [
    "data=pandas.read_csv(\"record.csv\")\n",
    "data.tail()  #picks last 5 datas"
   ]
  },
  {
   "cell_type": "code",
   "execution_count": 81,
   "metadata": {},
   "outputs": [
    {
     "data": {
      "text/html": [
       "<div>\n",
       "<style scoped>\n",
       "    .dataframe tbody tr th:only-of-type {\n",
       "        vertical-align: middle;\n",
       "    }\n",
       "\n",
       "    .dataframe tbody tr th {\n",
       "        vertical-align: top;\n",
       "    }\n",
       "\n",
       "    .dataframe thead th {\n",
       "        text-align: right;\n",
       "    }\n",
       "</style>\n",
       "<table border=\"1\" class=\"dataframe\">\n",
       "  <thead>\n",
       "    <tr style=\"text-align: right;\">\n",
       "      <th></th>\n",
       "      <th>Name</th>\n",
       "      <th>Tamil</th>\n",
       "      <th>English</th>\n",
       "      <th>Maths</th>\n",
       "      <th>Physics</th>\n",
       "      <th>Chemistry</th>\n",
       "    </tr>\n",
       "  </thead>\n",
       "  <tbody>\n",
       "    <tr>\n",
       "      <th>0</th>\n",
       "      <td>Alan</td>\n",
       "      <td>98</td>\n",
       "      <td>99</td>\n",
       "      <td>93</td>\n",
       "      <td>95</td>\n",
       "      <td>96</td>\n",
       "    </tr>\n",
       "    <tr>\n",
       "      <th>1</th>\n",
       "      <td>Britney</td>\n",
       "      <td>92</td>\n",
       "      <td>95</td>\n",
       "      <td>98</td>\n",
       "      <td>96</td>\n",
       "      <td>99</td>\n",
       "    </tr>\n",
       "  </tbody>\n",
       "</table>\n",
       "</div>"
      ],
      "text/plain": [
       "      Name  Tamil  English  Maths  Physics  Chemistry\n",
       "0     Alan     98       99     93       95         96\n",
       "1  Britney     92       95     98       96         99"
      ]
     },
     "execution_count": 81,
     "metadata": {},
     "output_type": "execute_result"
    }
   ],
   "source": [
    "data=pandas.read_csv(\"record.csv\")\n",
    "data.head(2)  #picks first two datas"
   ]
  },
  {
   "cell_type": "code",
   "execution_count": 82,
   "metadata": {},
   "outputs": [
    {
     "data": {
      "text/html": [
       "<div>\n",
       "<style scoped>\n",
       "    .dataframe tbody tr th:only-of-type {\n",
       "        vertical-align: middle;\n",
       "    }\n",
       "\n",
       "    .dataframe tbody tr th {\n",
       "        vertical-align: top;\n",
       "    }\n",
       "\n",
       "    .dataframe thead th {\n",
       "        text-align: right;\n",
       "    }\n",
       "</style>\n",
       "<table border=\"1\" class=\"dataframe\">\n",
       "  <thead>\n",
       "    <tr style=\"text-align: right;\">\n",
       "      <th></th>\n",
       "      <th>Name</th>\n",
       "      <th>Tamil</th>\n",
       "      <th>English</th>\n",
       "      <th>Maths</th>\n",
       "      <th>Physics</th>\n",
       "      <th>Chemistry</th>\n",
       "    </tr>\n",
       "  </thead>\n",
       "  <tbody>\n",
       "    <tr>\n",
       "      <th>4</th>\n",
       "      <td>Willaimson</td>\n",
       "      <td>99</td>\n",
       "      <td>94</td>\n",
       "      <td>97</td>\n",
       "      <td>99</td>\n",
       "      <td>98</td>\n",
       "    </tr>\n",
       "    <tr>\n",
       "      <th>5</th>\n",
       "      <td>Zach</td>\n",
       "      <td>97</td>\n",
       "      <td>92</td>\n",
       "      <td>91</td>\n",
       "      <td>94</td>\n",
       "      <td>99</td>\n",
       "    </tr>\n",
       "  </tbody>\n",
       "</table>\n",
       "</div>"
      ],
      "text/plain": [
       "         Name  Tamil  English  Maths  Physics  Chemistry\n",
       "4  Willaimson     99       94     97       99         98\n",
       "5        Zach     97       92     91       94         99"
      ]
     },
     "execution_count": 82,
     "metadata": {},
     "output_type": "execute_result"
    }
   ],
   "source": [
    "data=pandas.read_csv(\"record.csv\")\n",
    "data.tail(2)  #picks last two datas"
   ]
  },
  {
   "cell_type": "code",
   "execution_count": 83,
   "metadata": {},
   "outputs": [
    {
     "data": {
      "text/html": [
       "<div>\n",
       "<style scoped>\n",
       "    .dataframe tbody tr th:only-of-type {\n",
       "        vertical-align: middle;\n",
       "    }\n",
       "\n",
       "    .dataframe tbody tr th {\n",
       "        vertical-align: top;\n",
       "    }\n",
       "\n",
       "    .dataframe thead th {\n",
       "        text-align: right;\n",
       "    }\n",
       "</style>\n",
       "<table border=\"1\" class=\"dataframe\">\n",
       "  <thead>\n",
       "    <tr style=\"text-align: right;\">\n",
       "      <th></th>\n",
       "      <th>Name</th>\n",
       "      <th>Tamil</th>\n",
       "      <th>English</th>\n",
       "      <th>Maths</th>\n",
       "      <th>Physics</th>\n",
       "      <th>Chemistry</th>\n",
       "    </tr>\n",
       "  </thead>\n",
       "  <tbody>\n",
       "    <tr>\n",
       "      <th>1</th>\n",
       "      <td>Britney</td>\n",
       "      <td>92</td>\n",
       "      <td>95</td>\n",
       "      <td>98</td>\n",
       "      <td>96</td>\n",
       "      <td>99</td>\n",
       "    </tr>\n",
       "  </tbody>\n",
       "</table>\n",
       "</div>"
      ],
      "text/plain": [
       "      Name  Tamil  English  Maths  Physics  Chemistry\n",
       "1  Britney     92       95     98       96         99"
      ]
     },
     "execution_count": 83,
     "metadata": {},
     "output_type": "execute_result"
    }
   ],
   "source": [
    "data=pandas.read_csv(\"record.csv\")\n",
    "data.sample()   #picks random datas"
   ]
  },
  {
   "cell_type": "code",
   "execution_count": 88,
   "metadata": {},
   "outputs": [
    {
     "data": {
      "text/plain": [
       "0    95\n",
       "1    96\n",
       "2    90\n",
       "3    99\n",
       "4    99\n",
       "5    94\n",
       "Name: Physics, dtype: int64"
      ]
     },
     "execution_count": 88,
     "metadata": {},
     "output_type": "execute_result"
    }
   ],
   "source": [
    "data=pandas.read_csv(\"record.csv\")\n",
    "data['Physics']   #prints specific column and each column is a series."
   ]
  },
  {
   "cell_type": "code",
   "execution_count": 90,
   "metadata": {},
   "outputs": [
    {
     "data": {
      "text/html": [
       "<div>\n",
       "<style scoped>\n",
       "    .dataframe tbody tr th:only-of-type {\n",
       "        vertical-align: middle;\n",
       "    }\n",
       "\n",
       "    .dataframe tbody tr th {\n",
       "        vertical-align: top;\n",
       "    }\n",
       "\n",
       "    .dataframe thead th {\n",
       "        text-align: right;\n",
       "    }\n",
       "</style>\n",
       "<table border=\"1\" class=\"dataframe\">\n",
       "  <thead>\n",
       "    <tr style=\"text-align: right;\">\n",
       "      <th></th>\n",
       "      <th>Name</th>\n",
       "      <th>Tamil</th>\n",
       "      <th>English</th>\n",
       "    </tr>\n",
       "  </thead>\n",
       "  <tbody>\n",
       "    <tr>\n",
       "      <th>0</th>\n",
       "      <td>Alan</td>\n",
       "      <td>98</td>\n",
       "      <td>99</td>\n",
       "    </tr>\n",
       "    <tr>\n",
       "      <th>1</th>\n",
       "      <td>Britney</td>\n",
       "      <td>92</td>\n",
       "      <td>95</td>\n",
       "    </tr>\n",
       "    <tr>\n",
       "      <th>2</th>\n",
       "      <td>Mathew</td>\n",
       "      <td>90</td>\n",
       "      <td>97</td>\n",
       "    </tr>\n",
       "    <tr>\n",
       "      <th>3</th>\n",
       "      <td>Kevin</td>\n",
       "      <td>98</td>\n",
       "      <td>94</td>\n",
       "    </tr>\n",
       "    <tr>\n",
       "      <th>4</th>\n",
       "      <td>Willaimson</td>\n",
       "      <td>99</td>\n",
       "      <td>94</td>\n",
       "    </tr>\n",
       "  </tbody>\n",
       "</table>\n",
       "</div>"
      ],
      "text/plain": [
       "         Name  Tamil  English\n",
       "0        Alan     98       99\n",
       "1     Britney     92       95\n",
       "2      Mathew     90       97\n",
       "3       Kevin     98       94\n",
       "4  Willaimson     99       94"
      ]
     },
     "execution_count": 90,
     "metadata": {},
     "output_type": "execute_result"
    }
   ],
   "source": [
    "data=pandas.read_csv(\"record.csv\")\n",
    "data.iloc[:5,:3]  #indexing "
   ]
  },
  {
   "cell_type": "markdown",
   "metadata": {},
   "source": [
    "# Conversion To Numpy"
   ]
  },
  {
   "cell_type": "code",
   "execution_count": 95,
   "metadata": {},
   "outputs": [
    {
     "data": {
      "text/plain": [
       "array([['Alan', 98, 99, 93, 95, 96],\n",
       "       ['Britney', 92, 95, 98, 96, 99],\n",
       "       ['Mathew', 90, 97, 99, 90, 91],\n",
       "       ['Kevin', 98, 94, 95, 99, 90],\n",
       "       ['Willaimson', 99, 94, 97, 99, 98],\n",
       "       ['Zach', 97, 92, 91, 94, 99]], dtype=object)"
      ]
     },
     "execution_count": 95,
     "metadata": {},
     "output_type": "execute_result"
    }
   ],
   "source": [
    "data=pandas.read_csv(\"record.csv\")\n",
    "data.values  #values is an attribute. EDA & Used in Machine Learning."
   ]
  },
  {
   "cell_type": "code",
   "execution_count": 96,
   "metadata": {},
   "outputs": [
    {
     "data": {
      "text/plain": [
       "numpy.ndarray"
      ]
     },
     "execution_count": 96,
     "metadata": {},
     "output_type": "execute_result"
    }
   ],
   "source": [
    "type(data.values)"
   ]
  },
  {
   "cell_type": "code",
   "execution_count": 97,
   "metadata": {},
   "outputs": [
    {
     "data": {
      "text/html": [
       "<div>\n",
       "<style scoped>\n",
       "    .dataframe tbody tr th:only-of-type {\n",
       "        vertical-align: middle;\n",
       "    }\n",
       "\n",
       "    .dataframe tbody tr th {\n",
       "        vertical-align: top;\n",
       "    }\n",
       "\n",
       "    .dataframe thead th {\n",
       "        text-align: right;\n",
       "    }\n",
       "</style>\n",
       "<table border=\"1\" class=\"dataframe\">\n",
       "  <thead>\n",
       "    <tr style=\"text-align: right;\">\n",
       "      <th></th>\n",
       "      <th>Tamil</th>\n",
       "      <th>English</th>\n",
       "      <th>Maths</th>\n",
       "      <th>Physics</th>\n",
       "      <th>Chemistry</th>\n",
       "    </tr>\n",
       "  </thead>\n",
       "  <tbody>\n",
       "    <tr>\n",
       "      <th>count</th>\n",
       "      <td>6.000000</td>\n",
       "      <td>6.000000</td>\n",
       "      <td>6.000000</td>\n",
       "      <td>6.000000</td>\n",
       "      <td>6.000000</td>\n",
       "    </tr>\n",
       "    <tr>\n",
       "      <th>mean</th>\n",
       "      <td>95.666667</td>\n",
       "      <td>95.166667</td>\n",
       "      <td>95.500000</td>\n",
       "      <td>95.500000</td>\n",
       "      <td>95.500000</td>\n",
       "    </tr>\n",
       "    <tr>\n",
       "      <th>std</th>\n",
       "      <td>3.723797</td>\n",
       "      <td>2.483277</td>\n",
       "      <td>3.082207</td>\n",
       "      <td>3.391165</td>\n",
       "      <td>4.037326</td>\n",
       "    </tr>\n",
       "    <tr>\n",
       "      <th>min</th>\n",
       "      <td>90.000000</td>\n",
       "      <td>92.000000</td>\n",
       "      <td>91.000000</td>\n",
       "      <td>90.000000</td>\n",
       "      <td>90.000000</td>\n",
       "    </tr>\n",
       "    <tr>\n",
       "      <th>25%</th>\n",
       "      <td>93.250000</td>\n",
       "      <td>94.000000</td>\n",
       "      <td>93.500000</td>\n",
       "      <td>94.250000</td>\n",
       "      <td>92.250000</td>\n",
       "    </tr>\n",
       "    <tr>\n",
       "      <th>50%</th>\n",
       "      <td>97.500000</td>\n",
       "      <td>94.500000</td>\n",
       "      <td>96.000000</td>\n",
       "      <td>95.500000</td>\n",
       "      <td>97.000000</td>\n",
       "    </tr>\n",
       "    <tr>\n",
       "      <th>75%</th>\n",
       "      <td>98.000000</td>\n",
       "      <td>96.500000</td>\n",
       "      <td>97.750000</td>\n",
       "      <td>98.250000</td>\n",
       "      <td>98.750000</td>\n",
       "    </tr>\n",
       "    <tr>\n",
       "      <th>max</th>\n",
       "      <td>99.000000</td>\n",
       "      <td>99.000000</td>\n",
       "      <td>99.000000</td>\n",
       "      <td>99.000000</td>\n",
       "      <td>99.000000</td>\n",
       "    </tr>\n",
       "  </tbody>\n",
       "</table>\n",
       "</div>"
      ],
      "text/plain": [
       "           Tamil    English      Maths    Physics  Chemistry\n",
       "count   6.000000   6.000000   6.000000   6.000000   6.000000\n",
       "mean   95.666667  95.166667  95.500000  95.500000  95.500000\n",
       "std     3.723797   2.483277   3.082207   3.391165   4.037326\n",
       "min    90.000000  92.000000  91.000000  90.000000  90.000000\n",
       "25%    93.250000  94.000000  93.500000  94.250000  92.250000\n",
       "50%    97.500000  94.500000  96.000000  95.500000  97.000000\n",
       "75%    98.000000  96.500000  97.750000  98.250000  98.750000\n",
       "max    99.000000  99.000000  99.000000  99.000000  99.000000"
      ]
     },
     "execution_count": 97,
     "metadata": {},
     "output_type": "execute_result"
    }
   ],
   "source": [
    "data.describe()   #describe function gives summary of all numeric columns."
   ]
  },
  {
   "cell_type": "code",
   "execution_count": 98,
   "metadata": {},
   "outputs": [
    {
     "data": {
      "text/plain": [
       "571"
      ]
     },
     "execution_count": 98,
     "metadata": {},
     "output_type": "execute_result"
    }
   ],
   "source": [
    "data['English'].sum()   #prints the sum of English "
   ]
  },
  {
   "cell_type": "code",
   "execution_count": 99,
   "metadata": {},
   "outputs": [
    {
     "data": {
      "text/plain": [
       "95.5"
      ]
     },
     "execution_count": 99,
     "metadata": {},
     "output_type": "execute_result"
    }
   ],
   "source": [
    "data['Physics'].mean()  #prints the mean of Physics."
   ]
  },
  {
   "cell_type": "code",
   "execution_count": 101,
   "metadata": {},
   "outputs": [
    {
     "data": {
      "text/plain": [
       "(6, 6)"
      ]
     },
     "execution_count": 101,
     "metadata": {},
     "output_type": "execute_result"
    }
   ],
   "source": [
    "data.shape"
   ]
  },
  {
   "cell_type": "code",
   "execution_count": 105,
   "metadata": {},
   "outputs": [
    {
     "data": {
      "text/html": [
       "<div>\n",
       "<style scoped>\n",
       "    .dataframe tbody tr th:only-of-type {\n",
       "        vertical-align: middle;\n",
       "    }\n",
       "\n",
       "    .dataframe tbody tr th {\n",
       "        vertical-align: top;\n",
       "    }\n",
       "\n",
       "    .dataframe thead th {\n",
       "        text-align: right;\n",
       "    }\n",
       "</style>\n",
       "<table border=\"1\" class=\"dataframe\">\n",
       "  <thead>\n",
       "    <tr style=\"text-align: right;\">\n",
       "      <th></th>\n",
       "      <th>Name</th>\n",
       "      <th>Tamil</th>\n",
       "      <th>English</th>\n",
       "      <th>Maths</th>\n",
       "      <th>Physics</th>\n",
       "      <th>Chemistry</th>\n",
       "      <th>Total Score</th>\n",
       "    </tr>\n",
       "  </thead>\n",
       "  <tbody>\n",
       "    <tr>\n",
       "      <th>0</th>\n",
       "      <td>Alan</td>\n",
       "      <td>98</td>\n",
       "      <td>99</td>\n",
       "      <td>93</td>\n",
       "      <td>95</td>\n",
       "      <td>96</td>\n",
       "      <td>481</td>\n",
       "    </tr>\n",
       "    <tr>\n",
       "      <th>1</th>\n",
       "      <td>Britney</td>\n",
       "      <td>92</td>\n",
       "      <td>95</td>\n",
       "      <td>98</td>\n",
       "      <td>96</td>\n",
       "      <td>99</td>\n",
       "      <td>480</td>\n",
       "    </tr>\n",
       "    <tr>\n",
       "      <th>2</th>\n",
       "      <td>Mathew</td>\n",
       "      <td>90</td>\n",
       "      <td>97</td>\n",
       "      <td>99</td>\n",
       "      <td>90</td>\n",
       "      <td>91</td>\n",
       "      <td>467</td>\n",
       "    </tr>\n",
       "    <tr>\n",
       "      <th>3</th>\n",
       "      <td>Kevin</td>\n",
       "      <td>98</td>\n",
       "      <td>94</td>\n",
       "      <td>95</td>\n",
       "      <td>99</td>\n",
       "      <td>90</td>\n",
       "      <td>476</td>\n",
       "    </tr>\n",
       "    <tr>\n",
       "      <th>4</th>\n",
       "      <td>Willaimson</td>\n",
       "      <td>99</td>\n",
       "      <td>94</td>\n",
       "      <td>97</td>\n",
       "      <td>99</td>\n",
       "      <td>98</td>\n",
       "      <td>487</td>\n",
       "    </tr>\n",
       "    <tr>\n",
       "      <th>5</th>\n",
       "      <td>Zach</td>\n",
       "      <td>97</td>\n",
       "      <td>92</td>\n",
       "      <td>91</td>\n",
       "      <td>94</td>\n",
       "      <td>99</td>\n",
       "      <td>473</td>\n",
       "    </tr>\n",
       "  </tbody>\n",
       "</table>\n",
       "</div>"
      ],
      "text/plain": [
       "         Name  Tamil  English  Maths  Physics  Chemistry  Total Score\n",
       "0        Alan     98       99     93       95         96          481\n",
       "1     Britney     92       95     98       96         99          480\n",
       "2      Mathew     90       97     99       90         91          467\n",
       "3       Kevin     98       94     95       99         90          476\n",
       "4  Willaimson     99       94     97       99         98          487\n",
       "5        Zach     97       92     91       94         99          473"
      ]
     },
     "execution_count": 105,
     "metadata": {},
     "output_type": "execute_result"
    }
   ],
   "source": [
    "data['Total Score']=data['Tamil']+data['English']+data['Maths']+data['Physics']+data['Chemistry']\n",
    "data"
   ]
  },
  {
   "cell_type": "markdown",
   "metadata": {},
   "source": [
    "# Info Function"
   ]
  },
  {
   "cell_type": "code",
   "execution_count": 106,
   "metadata": {},
   "outputs": [
    {
     "name": "stdout",
     "output_type": "stream",
     "text": [
      "<class 'pandas.core.frame.DataFrame'>\n",
      "RangeIndex: 6 entries, 0 to 5\n",
      "Data columns (total 7 columns):\n",
      " #   Column       Non-Null Count  Dtype \n",
      "---  ------       --------------  ----- \n",
      " 0   Name         6 non-null      object\n",
      " 1   Tamil        6 non-null      int64 \n",
      " 2   English      6 non-null      int64 \n",
      " 3   Maths        6 non-null      int64 \n",
      " 4   Physics      6 non-null      int64 \n",
      " 5   Chemistry    6 non-null      int64 \n",
      " 6   Total Score  6 non-null      int64 \n",
      "dtypes: int64(6), object(1)\n",
      "memory usage: 464.0+ bytes\n"
     ]
    }
   ],
   "source": [
    "data.info()"
   ]
  },
  {
   "cell_type": "markdown",
   "metadata": {},
   "source": [
    "# Round Off Function"
   ]
  },
  {
   "cell_type": "code",
   "execution_count": 107,
   "metadata": {},
   "outputs": [
    {
     "data": {
      "text/html": [
       "<div>\n",
       "<style scoped>\n",
       "    .dataframe tbody tr th:only-of-type {\n",
       "        vertical-align: middle;\n",
       "    }\n",
       "\n",
       "    .dataframe tbody tr th {\n",
       "        vertical-align: top;\n",
       "    }\n",
       "\n",
       "    .dataframe thead th {\n",
       "        text-align: right;\n",
       "    }\n",
       "</style>\n",
       "<table border=\"1\" class=\"dataframe\">\n",
       "  <thead>\n",
       "    <tr style=\"text-align: right;\">\n",
       "      <th></th>\n",
       "      <th>Name</th>\n",
       "      <th>Tamil</th>\n",
       "      <th>English</th>\n",
       "      <th>Maths</th>\n",
       "      <th>Physics</th>\n",
       "      <th>Chemistry</th>\n",
       "      <th>Total Score</th>\n",
       "    </tr>\n",
       "  </thead>\n",
       "  <tbody>\n",
       "    <tr>\n",
       "      <th>0</th>\n",
       "      <td>Alan</td>\n",
       "      <td>98</td>\n",
       "      <td>99</td>\n",
       "      <td>93</td>\n",
       "      <td>95</td>\n",
       "      <td>96</td>\n",
       "      <td>1511.106066</td>\n",
       "    </tr>\n",
       "    <tr>\n",
       "      <th>1</th>\n",
       "      <td>Britney</td>\n",
       "      <td>92</td>\n",
       "      <td>95</td>\n",
       "      <td>98</td>\n",
       "      <td>96</td>\n",
       "      <td>99</td>\n",
       "      <td>1507.964474</td>\n",
       "    </tr>\n",
       "    <tr>\n",
       "      <th>2</th>\n",
       "      <td>Mathew</td>\n",
       "      <td>90</td>\n",
       "      <td>97</td>\n",
       "      <td>99</td>\n",
       "      <td>90</td>\n",
       "      <td>91</td>\n",
       "      <td>1467.123769</td>\n",
       "    </tr>\n",
       "    <tr>\n",
       "      <th>3</th>\n",
       "      <td>Kevin</td>\n",
       "      <td>98</td>\n",
       "      <td>94</td>\n",
       "      <td>95</td>\n",
       "      <td>99</td>\n",
       "      <td>90</td>\n",
       "      <td>1495.398103</td>\n",
       "    </tr>\n",
       "    <tr>\n",
       "      <th>4</th>\n",
       "      <td>Willaimson</td>\n",
       "      <td>99</td>\n",
       "      <td>94</td>\n",
       "      <td>97</td>\n",
       "      <td>99</td>\n",
       "      <td>98</td>\n",
       "      <td>1529.955622</td>\n",
       "    </tr>\n",
       "    <tr>\n",
       "      <th>5</th>\n",
       "      <td>Zach</td>\n",
       "      <td>97</td>\n",
       "      <td>92</td>\n",
       "      <td>91</td>\n",
       "      <td>94</td>\n",
       "      <td>99</td>\n",
       "      <td>1485.973325</td>\n",
       "    </tr>\n",
       "  </tbody>\n",
       "</table>\n",
       "</div>"
      ],
      "text/plain": [
       "         Name  Tamil  English  Maths  Physics  Chemistry  Total Score\n",
       "0        Alan     98       99     93       95         96  1511.106066\n",
       "1     Britney     92       95     98       96         99  1507.964474\n",
       "2      Mathew     90       97     99       90         91  1467.123769\n",
       "3       Kevin     98       94     95       99         90  1495.398103\n",
       "4  Willaimson     99       94     97       99         98  1529.955622\n",
       "5        Zach     97       92     91       94         99  1485.973325"
      ]
     },
     "execution_count": 107,
     "metadata": {},
     "output_type": "execute_result"
    }
   ],
   "source": [
    "import numpy\n",
    "data['Total Score']= data['Total Score']*numpy.pi\n",
    "data"
   ]
  },
  {
   "cell_type": "code",
   "execution_count": 108,
   "metadata": {},
   "outputs": [
    {
     "data": {
      "text/html": [
       "<div>\n",
       "<style scoped>\n",
       "    .dataframe tbody tr th:only-of-type {\n",
       "        vertical-align: middle;\n",
       "    }\n",
       "\n",
       "    .dataframe tbody tr th {\n",
       "        vertical-align: top;\n",
       "    }\n",
       "\n",
       "    .dataframe thead th {\n",
       "        text-align: right;\n",
       "    }\n",
       "</style>\n",
       "<table border=\"1\" class=\"dataframe\">\n",
       "  <thead>\n",
       "    <tr style=\"text-align: right;\">\n",
       "      <th></th>\n",
       "      <th>Name</th>\n",
       "      <th>Tamil</th>\n",
       "      <th>English</th>\n",
       "      <th>Maths</th>\n",
       "      <th>Physics</th>\n",
       "      <th>Chemistry</th>\n",
       "      <th>Total Score</th>\n",
       "    </tr>\n",
       "  </thead>\n",
       "  <tbody>\n",
       "    <tr>\n",
       "      <th>0</th>\n",
       "      <td>Alan</td>\n",
       "      <td>98</td>\n",
       "      <td>99</td>\n",
       "      <td>93</td>\n",
       "      <td>95</td>\n",
       "      <td>96</td>\n",
       "      <td>1511.106</td>\n",
       "    </tr>\n",
       "    <tr>\n",
       "      <th>1</th>\n",
       "      <td>Britney</td>\n",
       "      <td>92</td>\n",
       "      <td>95</td>\n",
       "      <td>98</td>\n",
       "      <td>96</td>\n",
       "      <td>99</td>\n",
       "      <td>1507.964</td>\n",
       "    </tr>\n",
       "    <tr>\n",
       "      <th>2</th>\n",
       "      <td>Mathew</td>\n",
       "      <td>90</td>\n",
       "      <td>97</td>\n",
       "      <td>99</td>\n",
       "      <td>90</td>\n",
       "      <td>91</td>\n",
       "      <td>1467.124</td>\n",
       "    </tr>\n",
       "    <tr>\n",
       "      <th>3</th>\n",
       "      <td>Kevin</td>\n",
       "      <td>98</td>\n",
       "      <td>94</td>\n",
       "      <td>95</td>\n",
       "      <td>99</td>\n",
       "      <td>90</td>\n",
       "      <td>1495.398</td>\n",
       "    </tr>\n",
       "    <tr>\n",
       "      <th>4</th>\n",
       "      <td>Willaimson</td>\n",
       "      <td>99</td>\n",
       "      <td>94</td>\n",
       "      <td>97</td>\n",
       "      <td>99</td>\n",
       "      <td>98</td>\n",
       "      <td>1529.956</td>\n",
       "    </tr>\n",
       "    <tr>\n",
       "      <th>5</th>\n",
       "      <td>Zach</td>\n",
       "      <td>97</td>\n",
       "      <td>92</td>\n",
       "      <td>91</td>\n",
       "      <td>94</td>\n",
       "      <td>99</td>\n",
       "      <td>1485.973</td>\n",
       "    </tr>\n",
       "  </tbody>\n",
       "</table>\n",
       "</div>"
      ],
      "text/plain": [
       "         Name  Tamil  English  Maths  Physics  Chemistry  Total Score\n",
       "0        Alan     98       99     93       95         96     1511.106\n",
       "1     Britney     92       95     98       96         99     1507.964\n",
       "2      Mathew     90       97     99       90         91     1467.124\n",
       "3       Kevin     98       94     95       99         90     1495.398\n",
       "4  Willaimson     99       94     97       99         98     1529.956\n",
       "5        Zach     97       92     91       94         99     1485.973"
      ]
     },
     "execution_count": 108,
     "metadata": {},
     "output_type": "execute_result"
    }
   ],
   "source": [
    "data['Total Score']=round(data['Total Score'],3) #round off by 3 decimal numbers.\n",
    "data"
   ]
  }
 ],
 "metadata": {
  "kernelspec": {
   "display_name": "Python 3",
   "language": "python",
   "name": "python3"
  },
  "language_info": {
   "codemirror_mode": {
    "name": "ipython",
    "version": 3
   },
   "file_extension": ".py",
   "mimetype": "text/x-python",
   "name": "python",
   "nbconvert_exporter": "python",
   "pygments_lexer": "ipython3",
   "version": "3.8.3"
  }
 },
 "nbformat": 4,
 "nbformat_minor": 4
}
